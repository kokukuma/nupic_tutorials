{
 "metadata": {
  "name": "",
  "signature": "sha256:8c5b011fa7a191ddcde1615fa21d41d11c40e88210723bd613aa7802ee584564"
 },
 "nbformat": 3,
 "nbformat_minor": 0,
 "worksheets": [
  {
   "cells": [
    {
     "cell_type": "markdown",
     "metadata": {},
     "source": [
      "# Encoders\n",
      "\n",
      "* Scalar\n",
      "* Date/time\n",
      "* Category\n",
      "* Multi"
     ]
    },
    {
     "cell_type": "code",
     "collapsed": false,
     "input": [
      "from nupic.encoders import ScalarEncoder\n"
     ],
     "language": "python",
     "metadata": {},
     "outputs": [],
     "prompt_number": 12
    },
    {
     "cell_type": "code",
     "collapsed": false,
     "input": [
      "# 22 bits with 3 active representing values 0 to 100\n",
      "# clipInput=True makes values >100 encode the same as 100 (instead of throwing a ValueError)\n",
      "# forced=True allows small values for `n` and `w`\n",
      "enc = ScalarEncoder(n=22, w=3, minval=2.5, maxval=97.5, clipInput=True, forced=True)\n",
      "print \"3 =\", enc.encode(3)\n",
      "print \"4 =\", enc.encode(4)\n",
      "print \"5 =\", enc.encode(5)"
     ],
     "language": "python",
     "metadata": {},
     "outputs": [
      {
       "output_type": "stream",
       "stream": "stdout",
       "text": [
        "3 = [1 1 1 0 0 0 0 0 0 0 0 0 0 0 0 0 0 0 0 0 0 0]\n",
        "4 = [1 1 1 0 0 0 0 0 0 0 0 0 0 0 0 0 0 0 0 0 0 0]\n",
        "5 = [0 1 1 1 0 0 0 0 0 0 0 0 0 0 0 0 0 0 0 0 0 0]\n"
       ]
      }
     ],
     "prompt_number": 11
    },
    {
     "cell_type": "code",
     "collapsed": false,
     "input": [
      "# Encode maxval\n",
      "print \"100  =\", enc.encode(100)\n",
      "# See that any larger number gets the same encoding\n",
      "print \"1000 =\", enc.encode(1000)"
     ],
     "language": "python",
     "metadata": {},
     "outputs": [
      {
       "output_type": "stream",
       "stream": "stdout",
       "text": [
        "100  = [0 0 0 0 0 0 0 0 0 0 0 0 0 0 0 0 0 0 0 1 1 1]\n",
        "1000 = [0 0 0 0 0 0 0 0 0 0 0 0 0 0 0 0 0 0 0 1 1 1]\n"
       ]
      }
     ],
     "prompt_number": 6
    },
    {
     "cell_type": "code",
     "collapsed": false,
     "input": [
      "from nupic.encoders.random_distributed_scalar import RandomDistributedScalarEncoder\n",
      "\n",
      "RandomDistributedScalarEncoder"
     ],
     "language": "python",
     "metadata": {},
     "outputs": [
      {
       "metadata": {},
       "output_type": "pyout",
       "prompt_number": 13,
       "text": [
        "nupic.encoders.random_distributed_scalar.RandomDistributedScalarEncoder"
       ]
      }
     ],
     "prompt_number": 13
    },
    {
     "cell_type": "code",
     "collapsed": false,
     "input": [
      "# 21 bits with 3 active with buckets of size 5\n",
      "rdse = RandomDistributedScalarEncoder(n=31, w=5, resolution=5, offset=2.5)\n",
      "\n",
      "print \"3 =   \", rdse.encode(3)\n",
      "print \"4 =   \", rdse.encode(4)\n",
      "print \"5 =   \", rdse.encode(5)\n",
      "print\n",
      "print \"100 = \", rdse.encode(100)\n",
      "print \"1000 =\", rdse.encode(1000)\n",
      "print \"1000 =\", rdse.encode(1101)"
     ],
     "language": "python",
     "metadata": {},
     "outputs": [
      {
       "output_type": "stream",
       "stream": "stdout",
       "text": [
        "3 =    [0 0 0 0 0 0 0 0 1 0 0 0 0 0 0 1 0 1 0 0 0 0 0 1 0 0 0 1 0 0 0]\n",
        "4 =    [0 0 0 0 0 0 0 0 1 0 0 0 0 0 0 1 0 1 0 0 0 0 0 1 0 0 0 1 0 0 0]\n",
        "5 =    [0 0 0 0 0 0 0 0 1 1 0 0 0 0 0 0 0 1 0 0 0 0 0 1 0 0 0 1 0 0 0]\n",
        "\n",
        "100 =  [0 1 0 0 0 0 0 0 0 0 0 0 0 1 0 0 0 0 0 1 0 0 0 0 0 1 0 1 0 0 0]\n",
        "1000 = "
       ]
      },
      {
       "output_type": "stream",
       "stream": "stdout",
       "text": [
        "[0 0 0 1 0 0 0 0 0 0 0 1 0 0 0 0 0 0 0 0 0 0 0 1 0 0 1 1 0 0 0]\n",
        "1000 = "
       ]
      },
      {
       "output_type": "stream",
       "stream": "stdout",
       "text": [
        "[0 0 1 0 1 0 0 0 0 0 0 0 0 0 0 1 0 1 0 0 0 0 0 0 0 0 0 0 1 0 0]\n"
       ]
      }
     ],
     "prompt_number": 36
    },
    {
     "cell_type": "code",
     "collapsed": false,
     "input": [
      "import datetime\n",
      "from nupic.encoders.date import DateEncoder\n",
      "\n",
      "DateEncoder"
     ],
     "language": "python",
     "metadata": {},
     "outputs": [
      {
       "metadata": {},
       "output_type": "pyout",
       "prompt_number": 37,
       "text": [
        "nupic.encoders.date.DateEncoder"
       ]
      }
     ],
     "prompt_number": 37
    },
    {
     "cell_type": "code",
     "collapsed": false,
     "input": [
      "de = DateEncoder(season=5)\n",
      "\n",
      "now = datetime.datetime.strptime(\"2014-05-02 13:08:58\", \"%Y-%m-%d %H:%M:%S\")\n",
      "print \"now =       \", de.encode(now)\n",
      "nextMonth = datetime.datetime.strptime(\"2014-06-02 13:08:58\", \"%Y-%m-%d %H:%M:%S\")\n",
      "print \"next month =\", de.encode(nextMonth)\n",
      "xmas = datetime.datetime.strptime(\"2014-12-25 13:08:58\", \"%Y-%m-%d %H:%M:%S\")\n",
      "print \"xmas =      \", de.encode(xmas)"
     ],
     "language": "python",
     "metadata": {},
     "outputs": [
      {
       "output_type": "stream",
       "stream": "stdout",
       "text": [
        "now =        [0 0 0 0 1 1 1 1 1 0 0 0 0 0 0 0 0 0 0 0]\n",
        "next month = [0 0 0 0 0 0 1 1 1 1 1 0 0 0 0 0 0 0 0 0]\n",
        "xmas =       [1 1 0 0 0 0 0 0 0 0 0 0 0 0 0 0 0 1 1 1]\n"
       ]
      }
     ],
     "prompt_number": 39
    },
    {
     "cell_type": "code",
     "collapsed": false,
     "input": [
      "from nupic.encoders.category import CategoryEncoder\n",
      "\n",
      "categories = (\"cat\", \"dog\", \"monkey\", \"slow loris\")\n",
      "encoder = CategoryEncoder(w=3, categoryList=categories, forced=True)\n",
      "cat = encoder.encode(\"cat\")\n",
      "dog = encoder.encode(\"dog\")\n",
      "monkey = encoder.encode(\"monkey\")\n",
      "loris = encoder.encode(\"slow loris\")\n",
      "print \"cat =       \", cat\n",
      "print \"dog =       \", dog\n",
      "print \"monkey =    \", monkey\n",
      "print \"slow loris =\", loris\n"
     ],
     "language": "python",
     "metadata": {},
     "outputs": [
      {
       "output_type": "stream",
       "stream": "stdout",
       "text": [
        "cat =        [0 0 0 1 1 1 0 0 0 0 0 0 0 0 0]\n",
        "dog =        [0 0 0 0 0 0 1 1 1 0 0 0 0 0 0]\n",
        "monkey =     [0 0 0 0 0 0 0 0 0 1 1 1 0 0 0]\n",
        "slow loris = [0 0 0 0 0 0 0 0 0 0 0 0 1 1 1]\n"
       ]
      }
     ],
     "prompt_number": 54
    },
    {
     "cell_type": "code",
     "collapsed": false,
     "input": [
      "print encoder.encode(None)"
     ],
     "language": "python",
     "metadata": {},
     "outputs": [
      {
       "output_type": "stream",
       "stream": "stdout",
       "text": [
        "[0 0 0 0 0 0 0 0 0 0 0 0 0 0 0]\n"
       ]
      }
     ],
     "prompt_number": 15
    },
    {
     "cell_type": "code",
     "collapsed": false,
     "input": [
      "print encoder.encode(\"unknown\")"
     ],
     "language": "python",
     "metadata": {},
     "outputs": [
      {
       "output_type": "stream",
       "stream": "stdout",
       "text": [
        "[1 1 1 0 0 0 0 0 0 0 0 0 0 0 0]\n"
       ]
      }
     ],
     "prompt_number": 16
    },
    {
     "cell_type": "markdown",
     "metadata": {},
     "source": [
      "# Spatial Pooler"
     ]
    },
    {
     "cell_type": "code",
     "collapsed": false,
     "input": [
      "from nupic.research.spatial_pooler import SpatialPooler\n",
      "\n",
      "print SpatialPooler"
     ],
     "language": "python",
     "metadata": {},
     "outputs": [
      {
       "output_type": "stream",
       "stream": "stdout",
       "text": [
        "<class 'nupic.research.spatial_pooler.SpatialPooler'>\n"
       ]
      }
     ],
     "prompt_number": 27
    },
    {
     "cell_type": "code",
     "collapsed": false,
     "input": [
      "print SpatialPooler"
     ],
     "language": "python",
     "metadata": {},
     "outputs": [
      {
       "output_type": "stream",
       "stream": "stdout",
       "text": [
        "<class 'nupic.research.spatial_pooler.SpatialPooler'>\n"
       ]
      }
     ],
     "prompt_number": 28
    },
    {
     "cell_type": "code",
     "collapsed": false,
     "input": [
      "print SpatialPooler"
     ],
     "language": "python",
     "metadata": {},
     "outputs": [
      {
       "output_type": "stream",
       "stream": "stdout",
       "text": [
        "<class 'nupic.research.spatial_pooler.SpatialPooler'>\n"
       ]
      }
     ],
     "prompt_number": 29
    },
    {
     "cell_type": "code",
     "collapsed": false,
     "input": [
      "    print SpatialPooler"
     ],
     "language": "python",
     "metadata": {},
     "outputs": [
      {
       "output_type": "stream",
       "stream": "stdout",
       "text": [
        "<class 'nupic.research.spatial_pooler.SpatialPooler'>\n"
       ]
      }
     ],
     "prompt_number": 30
    },
    {
     "cell_type": "code",
     "collapsed": false,
     "input": [
      "print len(cat)\n",
      "print cat"
     ],
     "language": "python",
     "metadata": {},
     "outputs": [
      {
       "output_type": "stream",
       "stream": "stdout",
       "text": [
        "15\n",
        "[0 0 0 1 1 1 0 0 0 0 0 0 0 0 0]\n"
       ]
      }
     ],
     "prompt_number": 55
    },
    {
     "cell_type": "code",
     "collapsed": false,
     "input": [
      "sp = SpatialPooler(inputDimensions=(15,),\n",
      "                   columnDimensions=(4,),\n",
      "                   potentialRadius=15,\n",
      "                   numActiveColumnsPerInhArea=1,\n",
      "                   globalInhibition=True,\n",
      "                   synPermActiveInc=0.03,\n",
      "                   potentialPct=1.0)\n",
      "import numpy\n",
      "for column in xrange(4):\n",
      "    connected = numpy.zeros((15,), dtype=\"int\")\n",
      "    sp.getConnectedSynapses(column, connected)\n",
      "    print connected"
     ],
     "language": "python",
     "metadata": {},
     "outputs": [
      {
       "output_type": "stream",
       "stream": "stdout",
       "text": [
        "[0 0 0 1 1 0 0 1 0 1 1 1 0 0 0]\n",
        "[0 1 0 0 1 0 1 0 0 0 1 1 0 0 0]\n",
        "[1 1 1 0 1 0 1 0 0 0 1 1 1 1 0]\n",
        "[1 0 0 1 1 1 0 0 1 1 0 1 0 0 1]\n"
       ]
      }
     ],
     "prompt_number": 79
    },
    {
     "cell_type": "code",
     "collapsed": false,
     "input": [
      "output = numpy.zeros((4,), dtype=\"int\")\n",
      "sp.compute(cat, learn=True, activeArray=output)\n",
      "print output"
     ],
     "language": "python",
     "metadata": {},
     "outputs": [
      {
       "output_type": "stream",
       "stream": "stdout",
       "text": [
        "[0 0 0 1]\n"
       ]
      }
     ],
     "prompt_number": 84
    },
    {
     "cell_type": "code",
     "collapsed": false,
     "input": [
      "for _ in xrange(20):\n",
      "    sp.compute(cat, learn=True, activeArray=output)"
     ],
     "language": "python",
     "metadata": {},
     "outputs": [],
     "prompt_number": 85
    },
    {
     "cell_type": "code",
     "collapsed": false,
     "input": [
      "for column in xrange(4):\n",
      "    connected = numpy.zeros((15,), dtype=\"int\")\n",
      "    sp.getConnectedSynapses(column, connected)\n",
      "    print connected"
     ],
     "language": "python",
     "metadata": {},
     "outputs": [
      {
       "output_type": "stream",
       "stream": "stdout",
       "text": [
        "[0 0 0 1 1 0 0 1 0 1 1 1 0 0 0]\n",
        "[0 1 0 0 1 0 1 0 0 0 1 1 0 0 0]\n",
        "[1 1 1 0 1 0 1 0 0 0 1 1 1 1 0]\n",
        "[0 0 0 1 1 1 0 0 0 0 0 0 0 0 0]\n"
       ]
      }
     ],
     "prompt_number": 86
    },
    {
     "cell_type": "code",
     "collapsed": false,
     "input": [
      "for _ in xrange(200):\n",
      "    sp.compute(cat, learn=True, activeArray=output)\n",
      "    sp.compute(dog, learn=True, activeArray=output)\n",
      "    sp.compute(monkey, learn=True, activeArray=output)\n",
      "    sp.compute(loris, learn=True, activeArray=output)"
     ],
     "language": "python",
     "metadata": {},
     "outputs": [],
     "prompt_number": 32
    },
    {
     "cell_type": "code",
     "collapsed": false,
     "input": [
      "for column in xrange(4):\n",
      "    connected = numpy.zeros((15,), dtype=\"int\")\n",
      "    sp.getConnectedSynapses(column, connected)\n",
      "    print connected"
     ],
     "language": "python",
     "metadata": {},
     "outputs": [
      {
       "output_type": "stream",
       "stream": "stdout",
       "text": [
        "[0 0 0 0 0 0 0 0 0 1 1 1 0 0 0]\n",
        "[0 0 0 0 0 0 0 0 0 1 0 1 0 0 0]\n",
        "[0 0 0 1 1 1 0 0 0 0 0 0 1 1 1]\n",
        "[0 0 0 0 0 0 1 1 1 0 0 0 0 0 0]\n"
       ]
      }
     ],
     "prompt_number": 31
    },
    {
     "cell_type": "code",
     "collapsed": false,
     "input": [
      "noisyCat = numpy.zeros((15,), dtype=\"uint32\")\n",
      "noisyCat[3] = 1\n",
      "noisyCat[4] = 1\n",
      "# This is part of dog!\n",
      "noisyCat[6] = 1\n",
      "print noisyCat"
     ],
     "language": "python",
     "metadata": {},
     "outputs": [
      {
       "output_type": "stream",
       "stream": "stdout",
       "text": [
        "[0 0 0 1 1 0 1 0 0 0 0 0 0 0 0]\n"
       ]
      }
     ],
     "prompt_number": 33
    },
    {
     "cell_type": "code",
     "collapsed": false,
     "input": [
      "sp.compute(noisyCat, learn=False, activeArray=output)\n",
      "print output  # matches cat!"
     ],
     "language": "python",
     "metadata": {},
     "outputs": [
      {
       "output_type": "stream",
       "stream": "stdout",
       "text": [
        "[0 0 1 0]\n"
       ]
      }
     ],
     "prompt_number": 34
    },
    {
     "cell_type": "markdown",
     "metadata": {},
     "source": [
      "# Sequence Memory (a.k.a. Temporal Pooler)\n",
      "\n",
      "From: `examples/tp/hello_tp.py`"
     ]
    },
    {
     "cell_type": "code",
     "collapsed": false,
     "input": [
      "from nupic.research.TP import TP\n",
      "\n",
      "TP?"
     ],
     "language": "python",
     "metadata": {},
     "outputs": [],
     "prompt_number": 35
    },
    {
     "cell_type": "code",
     "collapsed": false,
     "input": [
      "# Step 1: create Temporal Pooler instance with appropriate parameters\n",
      "tp = TP(numberOfCols=50, cellsPerColumn=2,\n",
      "        initialPerm=0.5, connectedPerm=0.5,\n",
      "        minThreshold=10, newSynapseCount=10,\n",
      "        permanenceInc=0.1, permanenceDec=0.0,\n",
      "        activationThreshold=8,\n",
      "        globalDecay=0, burnIn=1,\n",
      "        checkSynapseConsistency=False,\n",
      "        pamLength=10)"
     ],
     "language": "python",
     "metadata": {},
     "outputs": [],
     "prompt_number": 36
    },
    {
     "cell_type": "code",
     "collapsed": false,
     "input": [
      "# Step 2: create input vectors to feed to the temporal pooler. Each input vector\n",
      "# must be numberOfCols wide. Here we create a simple sequence of 5 vectors\n",
      "# representing the sequence A -> B -> C -> D -> E\n",
      "x = numpy.zeros((5, tp.numberOfCols), dtype=\"uint32\")\n",
      "x[0,0:10]  = 1   # Input SDR representing \"A\", corresponding to columns 0-9\n",
      "x[1,10:20] = 1   # Input SDR representing \"B\", corresponding to columns 10-19\n",
      "x[2,20:30] = 1   # Input SDR representing \"C\", corresponding to columns 20-29\n",
      "x[3,30:40] = 1   # Input SDR representing \"D\", corresponding to columns 30-39\n",
      "x[4,40:50] = 1   # Input SDR representing \"E\", corresponding to columns 40-49"
     ],
     "language": "python",
     "metadata": {},
     "outputs": [],
     "prompt_number": 37
    },
    {
     "cell_type": "code",
     "collapsed": false,
     "input": [
      "# Step 3: send this simple sequence to the temporal pooler for learning\n",
      "# We repeat the sequence 10 times\n",
      "for i in range(10):\n",
      "\n",
      "    # Send each letter in the sequence in order\n",
      "    for j in range(5):\n",
      "\n",
      "        # The compute method performs one step of learning and/or inference. Note:\n",
      "        # here we just perform learning but you can perform prediction/inference and\n",
      "        # learning in the same step if you want (online learning).\n",
      "        tp.compute(x[j], enableLearn = True, computeInfOutput = False)\n",
      "\n",
      "        # This function prints the segments associated with every cell.$$$$\n",
      "        # If you really want to understand the TP, uncomment this line. By following\n",
      "        # every step you can get an excellent understanding for exactly how the TP\n",
      "        # learns.\n",
      "        #tp.printCells()\n",
      "\n",
      "    # The reset command tells the TP that a sequence just ended and essentially\n",
      "    # zeros out all the states. It is not strictly necessary but it's a bit\n",
      "    # messier without resets, and the TP learns quicker with resets.\n",
      "    tp.reset()"
     ],
     "language": "python",
     "metadata": {},
     "outputs": [],
     "prompt_number": 38
    },
    {
     "cell_type": "code",
     "collapsed": false,
     "input": [
      "# Step 4: send the same sequence of vectors and look at predictions made by\n",
      "# temporal pooler\n",
      "\n",
      "# Utility routine for printing the input vector\n",
      "def formatRow(x):\n",
      "    s = ''\n",
      "    for c in range(len(x)):\n",
      "        if c > 0 and c % 10 == 0:\n",
      "            s += ' '\n",
      "        s += str(x[c])\n",
      "    s += ' '\n",
      "    return s\n",
      "\n",
      "for j in range(5):\n",
      "    print \"\\n\\n--------\",\"ABCDE\"[j],\"-----------\"\n",
      "    print \"Raw input vector\\n\",formatRow(x[j])\n",
      "\n",
      "    # Send each vector to the TP, with learning turned off\n",
      "    tp.compute(x[j], enableLearn=False, computeInfOutput=True)\n",
      "\n",
      "    # This method prints out the active state of each cell followed by the\n",
      "    # predicted state of each cell. For convenience the cells are grouped\n",
      "    # 10 at a time. When there are multiple cells per column the printout\n",
      "    # is arranged so the cells in a column are stacked together\n",
      "    #\n",
      "    # What you should notice is that the columns where active state is 1\n",
      "    # represent the SDR for the current input pattern and the columns where\n",
      "    # predicted state is 1 represent the SDR for the next expected pattern\n",
      "    print \"\\nAll the active and predicted cells:\"\n",
      "    tp.printStates(printPrevious=False, printLearnState=False)\n",
      "\n",
      "    # tp.getPredictedState() gets the predicted cells.\n",
      "    # predictedCells[c][i] represents the state of the i'th cell in the c'th\n",
      "    # column. To see if a column is predicted, we can simply take the OR\n",
      "    # across all the cells in that column. In numpy we can do this by taking\n",
      "    # the max along axis 1.\n",
      "    print \"\\n\\nThe following columns are predicted by the temporal pooler. This\"\n",
      "    print \"should correspond to columns in the *next* item in the sequence.\"\n",
      "    predictedCells = tp.getPredictedState()\n",
      "    print formatRow(predictedCells.max(axis=1).nonzero())"
     ],
     "language": "python",
     "metadata": {},
     "outputs": [
      {
       "output_type": "stream",
       "stream": "stdout",
       "text": [
        "\n",
        "\n",
        "-------- A -----------\n",
        "Raw input vector\n",
        "1111111111 0000000000 0000000000 0000000000 0000000000 \n",
        "\n",
        "All the active and predicted cells:\n",
        "\n",
        "Inference Active state\n",
        "1111111111 0000000000 0000000000 0000000000 0000000000 \n",
        "0000000000 0000000000 0000000000 0000000000 0000000000 \n",
        "Inference Predicted state\n",
        "0000000000 0000000000 0000000000 0000000000 0000000000 \n",
        "0000000000 1111111111 0000000000 0000000000 0000000000 \n",
        "\n",
        "\n",
        "The following columns are predicted by the temporal pooler. This\n",
        "should correspond to columns in the *next* item in the sequence.\n",
        "[10 11 12 13 14 15 16 17 18 19] \n",
        "\n",
        "\n",
        "-------- B -----------\n",
        "Raw input vector\n",
        "0000000000 1111111111 0000000000 0000000000 0000000000 \n",
        "\n",
        "All the active and predicted cells:\n",
        "\n",
        "Inference Active state\n",
        "0000000000 0000000000 0000000000 0000000000 0000000000 \n",
        "0000000000 1111111111 0000000000 0000000000 0000000000 \n",
        "Inference Predicted state\n",
        "0000000000 0000000000 0000000000 0000000000 0000000000 \n",
        "0000000000 0000000000 1111111111 0000000000 0000000000 \n",
        "\n",
        "\n",
        "The following columns are predicted by the temporal pooler. This\n",
        "should correspond to columns in the *next* item in the sequence.\n",
        "[20 21 22 23 24 25 26 27 28 29] \n",
        "\n",
        "\n",
        "-------- C -----------\n",
        "Raw input vector\n",
        "0000000000 0000000000 1111111111 0000000000 0000000000 \n",
        "\n",
        "All the active and predicted cells:\n",
        "\n",
        "Inference Active state\n",
        "0000000000 0000000000 0000000000 0000000000 0000000000 \n",
        "0000000000 0000000000 1111111111 0000000000 0000000000 \n",
        "Inference Predicted state\n",
        "0000000000 0000000000 0000000000 0000000000 0000000000 \n",
        "0000000000 0000000000 0000000000 1111111111 0000000000 \n",
        "\n",
        "\n",
        "The following columns are predicted by the temporal pooler. This\n",
        "should correspond to columns in the *next* item in the sequence.\n",
        "[30 31 32 33 34 35 36 37 38 39] \n",
        "\n",
        "\n",
        "-------- D -----------\n",
        "Raw input vector\n",
        "0000000000 0000000000 0000000000 1111111111 0000000000 \n",
        "\n",
        "All the active and predicted cells:\n",
        "\n",
        "Inference Active state\n",
        "0000000000 0000000000 0000000000 0000000000 0000000000 \n",
        "0000000000 0000000000 0000000000 1111111111 0000000000 \n",
        "Inference Predicted state\n",
        "0000000000 0000000000 0000000000 0000000000 0000000000 \n",
        "0000000000 0000000000 0000000000 0000000000 1111111111 \n",
        "\n",
        "\n",
        "The following columns are predicted by the temporal pooler. This\n",
        "should correspond to columns in the *next* item in the sequence.\n",
        "[40 41 42 43 44 45 46 47 48 49] \n",
        "\n",
        "\n",
        "-------- E -----------\n",
        "Raw input vector\n",
        "0000000000 0000000000 0000000000 0000000000 1111111111 \n",
        "\n",
        "All the active and predicted cells:\n",
        "\n",
        "Inference Active state\n",
        "0000000000 0000000000 0000000000 0000000000 0000000000 \n",
        "0000000000 0000000000 0000000000 0000000000 1111111111 \n",
        "Inference Predicted state\n",
        "0000000000 0000000000 0000000000 0000000000 0000000000 \n",
        "0000000000 0000000000 0000000000 0000000000 0000000000 \n",
        "\n",
        "\n",
        "The following columns are predicted by the temporal pooler. This\n",
        "should correspond to columns in the *next* item in the sequence.\n",
        "[] \n"
       ]
      }
     ],
     "prompt_number": 39
    },
    {
     "cell_type": "markdown",
     "metadata": {},
     "source": [
      "# Networks and Regions\n",
      "\n",
      "See slides."
     ]
    },
    {
     "cell_type": "markdown",
     "metadata": {},
     "source": [
      "# Online Prediction Framework\n",
      "\n",
      "* CLAModel\n",
      "* OPF Client\n",
      "* Swarming\n",
      "\n",
      "# CLAModel\n",
      "\n",
      "From `examples/opf/clients/hotgym/simple/hotgym.py`"
     ]
    },
    {
     "cell_type": "code",
     "collapsed": false,
     "input": [
      "model = ModelFactory.create(MODEL_PARAMS)"
     ],
     "language": "python",
     "metadata": {},
     "outputs": [
      {
       "ename": "NameError",
       "evalue": "name 'ModelFactory' is not defined",
       "output_type": "pyerr",
       "traceback": [
        "\u001b[0;31m---------------------------------------------------------------------------\u001b[0m\n\u001b[0;31mNameError\u001b[0m                                 Traceback (most recent call last)",
        "\u001b[0;32m<ipython-input-40-0a1440b445bd>\u001b[0m in \u001b[0;36m<module>\u001b[0;34m()\u001b[0m\n\u001b[0;32m----> 1\u001b[0;31m \u001b[0mmodel\u001b[0m \u001b[0;34m=\u001b[0m \u001b[0mModelFactory\u001b[0m\u001b[0;34m.\u001b[0m\u001b[0mcreate\u001b[0m\u001b[0;34m(\u001b[0m\u001b[0mMODEL_PARAMS\u001b[0m\u001b[0;34m)\u001b[0m\u001b[0;34m\u001b[0m\u001b[0m\n\u001b[0m",
        "\u001b[0;31mNameError\u001b[0m: name 'ModelFactory' is not defined"
       ]
      }
     ],
     "prompt_number": 40
    },
    {
     "cell_type": "markdown",
     "metadata": {},
     "source": [
      "# Model Parameters\n",
      "\n",
      "`MODEL_PARAMS` have all of the parameters for the CLA model and subcomponents"
     ]
    },
    {
     "cell_type": "code",
     "collapsed": false,
     "input": [
      "# Model Params!\n",
      "MODEL_PARAMS = {\n",
      "    # Type of model that the rest of these parameters apply to.\n",
      "    'model': \"CLA\",\n",
      "\n",
      "    # Version that specifies the format of the config.\n",
      "    'version': 1,\n",
      "\n",
      "    # Intermediate variables used to compute fields in modelParams and also\n",
      "    # referenced from the control section.\n",
      "    'aggregationInfo': {   'days': 0,\n",
      "        'fields': [('consumption', 'sum')],\n",
      "        'hours': 1,\n",
      "        'microseconds': 0,\n",
      "        'milliseconds': 0,\n",
      "        'minutes': 0,\n",
      "        'months': 0,\n",
      "        'seconds': 0,\n",
      "        'weeks': 0,\n",
      "        'years': 0},\n",
      "\n",
      "    'predictAheadTime': None,\n",
      "\n",
      "    # Model parameter dictionary.\n",
      "    'modelParams': {\n",
      "        # The type of inference that this model will perform\n",
      "        'inferenceType': 'TemporalMultiStep',\n",
      "\n",
      "        'sensorParams': {\n",
      "            # Sensor diagnostic output verbosity control;\n",
      "            # if > 0: sensor region will print out on screen what it's sensing\n",
      "            # at each step 0: silent; >=1: some info; >=2: more info;\n",
      "            # >=3: even more info (see compute() in py/regions/RecordSensor.py)\n",
      "            'verbosity' : 0,\n",
      "\n",
      "            # Include the encoders we use\n",
      "            'encoders': {\n",
      "                u'timestamp_timeOfDay': {\n",
      "                    'fieldname': u'timestamp',\n",
      "                    'name': u'timestamp_timeOfDay',\n",
      "                    'timeOfDay': (21, 0.5),\n",
      "                    'type': 'DateEncoder'\n",
      "                },\n",
      "                u'timestamp_dayOfWeek': None,\n",
      "                u'timestamp_weekend': None,\n",
      "                u'consumption': {\n",
      "                    'clipInput': True,\n",
      "                    'fieldname': u'consumption',\n",
      "                    'maxval': 100.0,\n",
      "                    'minval': 0.0,\n",
      "                    'n': 50,\n",
      "                    'name': u'c1',\n",
      "                    'type': 'ScalarEncoder',\n",
      "                    'w': 21\n",
      "                },\n",
      "            },\n",
      "\n",
      "            # A dictionary specifying the period for automatically-generated\n",
      "            # resets from a RecordSensor;\n",
      "            #\n",
      "            # None = disable automatically-generated resets (also disabled if\n",
      "            # all of the specified values evaluate to 0).\n",
      "            # Valid keys is the desired combination of the following:\n",
      "            #   days, hours, minutes, seconds, milliseconds, microseconds, weeks\n",
      "            #\n",
      "            # Example for 1.5 days: sensorAutoReset = dict(days=1,hours=12),\n",
      "            #\n",
      "            # (value generated from SENSOR_AUTO_RESET)\n",
      "            'sensorAutoReset' : None,\n",
      "        },\n",
      "\n",
      "        'spEnable': True,\n",
      "\n",
      "        'spParams': {\n",
      "            # SP diagnostic output verbosity control;\n",
      "            # 0: silent; >=1: some info; >=2: more info;\n",
      "            'spVerbosity' : 0,\n",
      "\n",
      "            # Spatial Pooler implementation selector, see getSPClass\n",
      "            # in py/regions/SPRegion.py for details\n",
      "            # 'py', 'oldpy' (default), 'cpp' (speed optimized, new)\n",
      "            'spatialImp' : 'cpp',\n",
      "\n",
      "            'globalInhibition': 1,\n",
      "\n",
      "            # Number of cell columns in the cortical region (same number for\n",
      "            # SP and TP)\n",
      "            # (see also tpNCellsPerCol)\n",
      "            'columnCount': 2048,\n",
      "\n",
      "            'inputWidth': 0,\n",
      "\n",
      "            # SP inhibition control (absolute value);\n",
      "            # Maximum number of active columns in the SP region's output (when\n",
      "            # there are more, the weaker ones are suppressed)\n",
      "            'numActivePerInhArea': 40,\n",
      "\n",
      "            'seed': 1956,\n",
      "\n",
      "            # coincInputPoolPct\n",
      "            # What percent of the columns's receptive field is available\n",
      "            # for potential synapses. At initialization time, we will\n",
      "            # choose coincInputPoolPct * (2*coincInputRadius+1)^2\n",
      "            'coincInputPoolPct': 0.5,\n",
      "\n",
      "            # The default connected threshold. Any synapse whose\n",
      "            # permanence value is above the connected threshold is\n",
      "            # a \"connected synapse\", meaning it can contribute to the\n",
      "            # cell's firing. Typical value is 0.10. Cells whose activity\n",
      "            # level before inhibition falls below minDutyCycleBeforeInh\n",
      "            # will have their own internal synPermConnectedCell\n",
      "            # threshold set below this default value.\n",
      "            # (This concept applies to both SP and TP and so 'cells'\n",
      "            # is correct here as opposed to 'columns')\n",
      "            'synPermConnected': 0.1,\n",
      "\n",
      "            'synPermActiveInc': 0.1,\n",
      "\n",
      "            'synPermInactiveDec': 0.005,\n",
      "        },\n",
      "\n",
      "        # Controls whether TP is enabled or disabled;\n",
      "        # TP is necessary for making temporal predictions, such as predicting\n",
      "        # the next inputs.  Without TP, the model is only capable of\n",
      "        # reconstructing missing sensor inputs (via SP).\n",
      "        'tpEnable' : True,\n",
      "\n",
      "        'tpParams': {\n",
      "            # TP diagnostic output verbosity control;\n",
      "            # 0: silent; [1..6]: increasing levels of verbosity\n",
      "            # (see verbosity in nta/trunk/py/nupic/research/TP.py and TP10X*.py)\n",
      "            'verbosity': 0,\n",
      "\n",
      "            # Number of cell columns in the cortical region (same number for\n",
      "            # SP and TP)\n",
      "            # (see also tpNCellsPerCol)\n",
      "            'columnCount': 2048,\n",
      "\n",
      "            # The number of cells (i.e., states), allocated per column.\n",
      "            'cellsPerColumn': 32,\n",
      "\n",
      "            'inputWidth': 2048,\n",
      "\n",
      "            'seed': 1960,\n",
      "\n",
      "            # Temporal Pooler implementation selector (see _getTPClass in\n",
      "            # CLARegion.py).\n",
      "            'temporalImp': 'cpp',\n",
      "\n",
      "            # New Synapse formation count\n",
      "            # NOTE: If None, use spNumActivePerInhArea\n",
      "            #\n",
      "            # TODO: need better explanation\n",
      "            'newSynapseCount': 20,\n",
      "\n",
      "            # Maximum number of synapses per segment\n",
      "            #  > 0 for fixed-size CLA\n",
      "            # -1 for non-fixed-size CLA\n",
      "            #\n",
      "            # TODO: for Ron: once the appropriate value is placed in TP\n",
      "            # constructor, see if we should eliminate this parameter from\n",
      "            # description.py.\n",
      "            'maxSynapsesPerSegment': 32,\n",
      "\n",
      "            # Maximum number of segments per cell\n",
      "            #  > 0 for fixed-size CLA\n",
      "            # -1 for non-fixed-size CLA\n",
      "            #\n",
      "            # TODO: for Ron: once the appropriate value is placed in TP\n",
      "            # constructor, see if we should eliminate this parameter from\n",
      "            # description.py.\n",
      "            'maxSegmentsPerCell': 128,\n",
      "\n",
      "            # Initial Permanence\n",
      "            # TODO: need better explanation\n",
      "            'initialPerm': 0.21,\n",
      "\n",
      "            # Permanence Increment\n",
      "            'permanenceInc': 0.1,\n",
      "\n",
      "            # Permanence Decrement\n",
      "            # If set to None, will automatically default to tpPermanenceInc\n",
      "            # value.\n",
      "            'permanenceDec' : 0.1,\n",
      "\n",
      "            'globalDecay': 0.0,\n",
      "\n",
      "            'maxAge': 0,\n",
      "\n",
      "            # Minimum number of active synapses for a segment to be considered\n",
      "            # during search for the best-matching segments.\n",
      "            # None=use default\n",
      "            # Replaces: tpMinThreshold\n",
      "            'minThreshold': 9,\n",
      "\n",
      "            # Segment activation threshold.\n",
      "            # A segment is active if it has >= tpSegmentActivationThreshold\n",
      "            # connected synapses that are active due to infActiveState\n",
      "            # None=use default\n",
      "            # Replaces: tpActivationThreshold\n",
      "            'activationThreshold': 12,\n",
      "\n",
      "            'outputType': 'normal',\n",
      "\n",
      "            # \"Pay Attention Mode\" length. This tells the TP how many new\n",
      "            # elements to append to the end of a learned sequence at a time.\n",
      "            # Smaller values are better for datasets with short sequences,\n",
      "            # higher values are better for datasets with long sequences.\n",
      "            'pamLength': 1,\n",
      "        },\n",
      "\n",
      "        'clParams': {\n",
      "            'regionName' : 'CLAClassifierRegion',\n",
      "\n",
      "            # Classifier diagnostic output verbosity control;\n",
      "            # 0: silent; [1..6]: increasing levels of verbosity\n",
      "            'clVerbosity' : 0,\n",
      "\n",
      "            # This controls how fast the classifier learns/forgets. Higher values\n",
      "            # make it adapt faster and forget older patterns faster.\n",
      "            'alpha': 0.005,\n",
      "\n",
      "            # This is set after the call to updateConfigFromSubConfig and is\n",
      "            # computed from the aggregationInfo and predictAheadTime.\n",
      "            'steps': '1,5',\n",
      "\n",
      "            'implementation': 'cpp',\n",
      "        },\n",
      "\n",
      "        'trainSPNetOnlyIfRequested': False,\n",
      "    },\n",
      "}"
     ],
     "language": "python",
     "metadata": {},
     "outputs": [],
     "prompt_number": 41
    },
    {
     "cell_type": "markdown",
     "metadata": {},
     "source": [
      "# Dataset Helpers"
     ]
    },
    {
     "cell_type": "code",
     "collapsed": false,
     "input": [
      "from nupic.data.datasethelpers import findDataset\n",
      "\n",
      "datasetPath = findDataset(\"extra/hotgym/hotgym.csv\")\n",
      "print datasetPath\n",
      "\n",
      "with open(datasetPath) as inputFile:\n",
      "    print\n",
      "    for _ in xrange(8):\n",
      "        print inputFile.next().strip()"
     ],
     "language": "python",
     "metadata": {},
     "outputs": [
      {
       "output_type": "stream",
       "stream": "stdout",
       "text": [
        "/Users/spurdy/nta/nupic/build/release/share/prediction/data/extra/hotgym/hotgym.csv\n",
        "\n",
        "gym,address,timestamp,consumption\n",
        "string,string,datetime,float\n",
        "S,,T,\n",
        "Balgowlah Platinum,Shop 67 197-215 Condamine Street Balgowlah 2093,2010-07-02 00:00:00.0,5.3\n",
        "Balgowlah Platinum,Shop 67 197-215 Condamine Street Balgowlah 2093,2010-07-02 00:15:00.0,5.5\n",
        "Balgowlah Platinum,Shop 67 197-215 Condamine Street Balgowlah 2093,2010-07-02 00:30:00.0,5.1\n",
        "Balgowlah Platinum,Shop 67 197-215 Condamine Street Balgowlah 2093,2010-07-02 00:45:00.0,5.3\n",
        "Balgowlah Platinum,Shop 67 197-215 Condamine Street Balgowlah 2093,2010-07-02 01:00:00.0,5.2\n"
       ]
      }
     ],
     "prompt_number": 42
    },
    {
     "cell_type": "markdown",
     "metadata": {},
     "source": [
      "# Loading Data\n",
      "\n",
      "`FileRecordStream` - file reader for the NuPIC file format (CSV with three header rows, understands datetimes)"
     ]
    },
    {
     "cell_type": "code",
     "collapsed": false,
     "input": [
      "from nupic.data.file_record_stream import FileRecordStream\n",
      "\n",
      "def getData():\n",
      "    return FileRecordStream(datasetPath)\n",
      "\n",
      "data = getData()\n",
      "for _ in xrange(5):\n",
      "    print data.next()"
     ],
     "language": "python",
     "metadata": {},
     "outputs": [
      {
       "output_type": "stream",
       "stream": "stdout",
       "text": [
        "['Balgowlah Platinum', 'Shop 67 197-215 Condamine Street Balgowlah 2093', datetime.datetime(2010, 7, 2, 0, 0), 5.3]\n",
        "['Balgowlah Platinum', 'Shop 67 197-215 Condamine Street Balgowlah 2093', datetime.datetime(2010, 7, 2, 0, 15), 5.5]\n",
        "['Balgowlah Platinum', 'Shop 67 197-215 Condamine Street Balgowlah 2093', datetime.datetime(2010, 7, 2, 0, 30), 5.1]\n",
        "['Balgowlah Platinum', 'Shop 67 197-215 Condamine Street Balgowlah 2093', datetime.datetime(2010, 7, 2, 0, 45), 5.3]\n",
        "['Balgowlah Platinum', 'Shop 67 197-215 Condamine Street Balgowlah 2093', datetime.datetime(2010, 7, 2, 1, 0), 5.2]\n"
       ]
      }
     ],
     "prompt_number": 44
    },
    {
     "cell_type": "code",
     "collapsed": false,
     "input": [
      "from nupic.frameworks.opf.modelfactory import ModelFactory\n",
      "model = ModelFactory.create(MODEL_PARAMS)\n",
      "model.enableInference({'predictedField': 'consumption'})"
     ],
     "language": "python",
     "metadata": {},
     "outputs": [],
     "prompt_number": 45
    },
    {
     "cell_type": "code",
     "collapsed": false,
     "input": [
      "data = getData()\n",
      "for _ in xrange(100):\n",
      "    record = dict(zip(data.getFieldNames(), data.next()))\n",
      "    print \"input: \", record[\"consumption\"]\n",
      "    result = model.run(record)\n",
      "    print \"prediction: \", result.inferences[\"multiStepBestPredictions\"][1]"
     ],
     "language": "python",
     "metadata": {},
     "outputs": [
      {
       "output_type": "stream",
       "stream": "stdout",
       "text": [
        "input:  5.3\n",
        "prediction:  6.08912514689\n",
        "input:  5.5\n",
        "prediction:  3.29820387133\n",
        "input:  5.1\n",
        "prediction:  5.74667132198\n",
        "input:  5.3\n",
        "prediction:  5.74667132198\n",
        "input:  5.2\n",
        "prediction:  5.61266992538\n",
        "input:  5.5\n",
        "prediction:  3.83874270993\n",
        "input:  4.5\n",
        "prediction:  1.19932366246\n",
        "input:  1.2\n",
        "prediction:  1.19932366246\n",
        "input:  1.1\n",
        "prediction:  1.19952656372\n",
        "input:  1.2\n",
        "prediction: "
       ]
      },
      {
       "output_type": "stream",
       "stream": "stdout",
       "text": [
        " 1.16966859461\n",
        "input:  1.2\n",
        "prediction:  1.17876801622\n",
        "input:  1.2\n",
        "prediction:  1.18513761136\n",
        "input:  1.2\n",
        "prediction:  1.18959632795\n",
        "input:  1.2\n",
        "prediction:  1.19271742956\n",
        "input:  1.1\n",
        "prediction:  1.1949022007\n",
        "input:  1.2\n",
        "prediction:  1.16643154049\n",
        "input:  1.1\n",
        "prediction:  1.17650207834\n",
        "input:  1.2\n",
        "prediction:  1.15355145484\n",
        "input:  1.2\n",
        "prediction: "
       ]
      },
      {
       "output_type": "stream",
       "stream": "stdout",
       "text": [
        " 1.16748601839\n",
        "input:  1.1\n",
        "prediction:  1.17724021287\n",
        "input:  1.2\n",
        "prediction:  5.49220826344\n",
        "input:  6.0\n",
        "prediction:  5.49220826344\n",
        "input:  7.9\n",
        "prediction:  5.64454578441\n",
        "input:  8.4\n",
        "prediction:  9.50994185751\n",
        "input:  10.6\n",
        "prediction:  12.539358903\n",
        "input:  12.4\n",
        "prediction:  12.539358903\n",
        "input:  12.1\n",
        "prediction: "
       ]
      },
      {
       "output_type": "stream",
       "stream": "stdout",
       "text": [
        " 9.83695930026\n",
        "input:  12.4\n",
        "prediction:  9.83695930026\n",
        "input:  11.4\n",
        "prediction:  9.83695930026\n",
        "input:  11.2\n",
        "prediction:  10.3058715102\n",
        "input:  10.8\n",
        "prediction:  10.5741100571\n",
        "input:  12.0\n",
        "prediction:  10.64187704\n",
        "input:  11.8\n",
        "prediction:  11.049313928\n",
        "input:  11.9\n",
        "prediction:  11.2745197496\n",
        "input:  11.4\n",
        "prediction:  11.4621638247\n",
        "input:  11.0\n",
        "prediction: "
       ]
      },
      {
       "output_type": "stream",
       "stream": "stdout",
       "text": [
        " 11.4435146773\n",
        "input:  9.8\n",
        "prediction:  11.3104602741\n",
        "input:  9.8\n",
        "prediction:  10.8573221919\n",
        "input:  10.8\n",
        "prediction:  10.5401255343\n",
        "input:  11.1\n",
        "prediction:  10.618087874\n",
        "input:  11.1\n",
        "prediction:  10.7626615118\n",
        "input:  11.0\n",
        "prediction:  10.8638630583\n",
        "input:  10.7\n",
        "prediction:  10.9047041408\n",
        "input:  10.6\n",
        "prediction: "
       ]
      },
      {
       "output_type": "stream",
       "stream": "stdout",
       "text": [
        " 10.8432928986\n",
        "input:  10.3\n",
        "prediction:  10.770305029\n",
        "input:  10.1\n",
        "prediction:  10.6292135203\n",
        "input:  12.9\n",
        "prediction:  10.4704494642\n",
        "input:  10.5\n",
        "prediction:  10.4704494642\n",
        "input:  9.7\n",
        "prediction:  10.4793146249\n",
        "input:  9.7\n",
        "prediction:  10.2455202375\n",
        "input:  9.2\n",
        "prediction:  10.0818641662\n",
        "input:  9.2\n",
        "prediction: "
       ]
      },
      {
       "output_type": "stream",
       "stream": "stdout",
       "text": [
        " 9.81730491636\n",
        "input:  9.2\n",
        "prediction:  9.63211344145\n",
        "input:  9.3\n",
        "prediction:  9.50247940901\n",
        "input:  9.1\n",
        "prediction:  9.44173558631\n",
        "input:  9.0\n",
        "prediction:  9.33921491042\n",
        "input:  8.9\n",
        "prediction:  9.23745043729\n",
        "input:  9.0\n",
        "prediction:  9.1362153061\n",
        "input:  8.9\n",
        "prediction:  9.09535071427\n",
        "input:  8.9\n",
        "prediction:  9.03674549999\n",
        "input:  9.0\n",
        "prediction:  8.99572184999\n",
        "input:  9.2\n",
        "prediction:  8.997005295\n",
        "input:  10.0\n",
        "prediction: "
       ]
      },
      {
       "output_type": "stream",
       "stream": "stdout",
       "text": [
        " 9.0579037065\n",
        "input:  10.7\n",
        "prediction:  9.34053259455\n",
        "input:  8.9\n",
        "prediction:  9.74837281618\n",
        "input:  9.0\n",
        "prediction:  9.49386097133\n",
        "input:  9.0\n",
        "prediction:  9.34570267993\n",
        "input:  9.3\n",
        "prediction:  9.24199187595\n",
        "input:  9.3\n",
        "prediction:  9.25939431317\n",
        "input:  9.1\n",
        "prediction:  9.27157601922\n",
        "input:  9.1\n",
        "prediction:  9.22010321345\n",
        "input:  9.1\n",
        "prediction:  9.18407224942\n",
        "input:  9.2\n",
        "prediction:  9.15885057459\n",
        "input:  "
       ]
      },
      {
       "output_type": "stream",
       "stream": "stdout",
       "text": [
        "9.4\n",
        "prediction:  9.17119540221\n",
        "input:  9.3\n",
        "prediction:  9.23983678155\n",
        "input:  9.3\n",
        "prediction:  9.25788574708\n",
        "input:  9.1\n",
        "prediction:  9.27052002296\n",
        "input:  9.1\n",
        "prediction:  9.21936401607\n",
        "input:  11.0\n",
        "prediction:  9.18355481125\n",
        "input:  9.0\n",
        "prediction:  6.94482743436\n",
        "input:  8.6\n",
        "prediction:  4.03711989695\n",
        "input:  3.0\n",
        "prediction:  1.16784770431\n",
        "input:  1.3\n",
        "prediction: "
       ]
      },
      {
       "output_type": "stream",
       "stream": "stdout",
       "text": [
        " 1.16784770431\n",
        "input:  1.2\n",
        "prediction:  1.20749339301\n",
        "input:  1.3\n",
        "prediction:  1.20524537511\n",
        "input:  1.3\n",
        "prediction:  1.23367176258\n",
        "input:  1.3\n",
        "prediction:  1.2535702338\n",
        "input:  1.2\n",
        "prediction:  1.26749916366\n",
        "input:  1.3\n",
        "prediction:  1.24724941456\n",
        "input:  1.2\n",
        "prediction:  1.26307459019\n",
        "input:  1.3\n",
        "prediction:  1.24415221314\n",
        "input:  1.2\n",
        "prediction:  1.2609065492\n",
        "input:  1.3\n",
        "prediction: "
       ]
      },
      {
       "output_type": "stream",
       "stream": "stdout",
       "text": [
        " 1.24263458444\n",
        "input:  1.2\n",
        "prediction:  1.25984420911\n",
        "input:  1.1\n",
        "prediction:  1.24189094637\n",
        "input:  2.3\n",
        "prediction:  7.44137920405\n",
        "input:  5.5\n",
        "prediction:  7.44137920405\n",
        "input:  5.5\n",
        "prediction:  6.85896544284\n",
        "input:  5.8\n",
        "prediction:  6.45127580999\n",
        "input:  5.7\n",
        "prediction:  6.25589306699\n"
       ]
      }
     ],
     "prompt_number": 55
    },
    {
     "cell_type": "code",
     "collapsed": false,
     "input": [
      "print \"5-step prediction: \", result.inferences[\"multiStepBestPredictions\"][5]"
     ],
     "language": "python",
     "metadata": {},
     "outputs": [
      {
       "output_type": "stream",
       "stream": "stdout",
       "text": [
        "5-step prediction:  1.19932366246\n"
       ]
      }
     ],
     "prompt_number": 56
    },
    {
     "cell_type": "markdown",
     "metadata": {},
     "source": [
      "# Anomaly Score"
     ]
    },
    {
     "cell_type": "code",
     "collapsed": false,
     "input": [
      "# Model Params!\n",
      "MODEL_PARAMS = {\n",
      "    # Type of model that the rest of these parameters apply to.\n",
      "    'model': \"CLA\",\n",
      "\n",
      "    # Version that specifies the format of the config.\n",
      "    'version': 1,\n",
      "\n",
      "    # Intermediate variables used to compute fields in modelParams and also\n",
      "    # referenced from the control section.\n",
      "    'aggregationInfo': {   'days': 0,\n",
      "        'fields': [('consumption', 'sum')],\n",
      "        'hours': 1,\n",
      "        'microseconds': 0,\n",
      "        'milliseconds': 0,\n",
      "        'minutes': 0,\n",
      "        'months': 0,\n",
      "        'seconds': 0,\n",
      "        'weeks': 0,\n",
      "        'years': 0},\n",
      "\n",
      "    'predictAheadTime': None,\n",
      "\n",
      "    # Model parameter dictionary.\n",
      "    'modelParams': {\n",
      "        # The type of inference that this model will perform\n",
      "        'inferenceType': 'TemporalAnomaly',\n",
      "\n",
      "        'sensorParams': {\n",
      "            # Sensor diagnostic output verbosity control;\n",
      "            # if > 0: sensor region will print out on screen what it's sensing\n",
      "            # at each step 0: silent; >=1: some info; >=2: more info;\n",
      "            # >=3: even more info (see compute() in py/regions/RecordSensor.py)\n",
      "            'verbosity' : 0,\n",
      "\n",
      "            # Include the encoders we use\n",
      "            'encoders': {\n",
      "                u'timestamp_timeOfDay': {\n",
      "                    'fieldname': u'timestamp',\n",
      "                    'name': u'timestamp_timeOfDay',\n",
      "                    'timeOfDay': (21, 0.5),\n",
      "                    'type': 'DateEncoder'},\n",
      "                u'timestamp_dayOfWeek': None,\n",
      "                u'timestamp_weekend': None,\n",
      "                u'consumption': {\n",
      "                    'clipInput': True,\n",
      "                    'fieldname': u'consumption',\n",
      "                    'maxval': 100.0,\n",
      "                    'minval': 0.0,\n",
      "                    'n': 50,\n",
      "                    'name': u'c1',\n",
      "                    'type': 'ScalarEncoder',\n",
      "                    'w': 21},},\n",
      "\n",
      "            # A dictionary specifying the period for automatically-generated\n",
      "            # resets from a RecordSensor;\n",
      "            #\n",
      "            # None = disable automatically-generated resets (also disabled if\n",
      "            # all of the specified values evaluate to 0).\n",
      "            # Valid keys is the desired combination of the following:\n",
      "            #   days, hours, minutes, seconds, milliseconds, microseconds, weeks\n",
      "            #\n",
      "            # Example for 1.5 days: sensorAutoReset = dict(days=1,hours=12),\n",
      "            #\n",
      "            # (value generated from SENSOR_AUTO_RESET)\n",
      "            'sensorAutoReset' : None,\n",
      "        },\n",
      "\n",
      "        'spEnable': True,\n",
      "\n",
      "        'spParams': {\n",
      "            # SP diagnostic output verbosity control;\n",
      "            # 0: silent; >=1: some info; >=2: more info;\n",
      "            'spVerbosity' : 0,\n",
      "\n",
      "            # Spatial Pooler implementation selector, see getSPClass\n",
      "            # in py/regions/SPRegion.py for details\n",
      "            # 'py', 'oldpy' (default), 'cpp' (speed optimized, new)\n",
      "            'spatialImp' : 'cpp',\n",
      "\n",
      "            'globalInhibition': 1,\n",
      "\n",
      "            # Number of cell columns in the cortical region (same number for\n",
      "            # SP and TP)\n",
      "            # (see also tpNCellsPerCol)\n",
      "            'columnCount': 2048,\n",
      "\n",
      "            'inputWidth': 0,\n",
      "\n",
      "            # SP inhibition control (absolute value);\n",
      "            # Maximum number of active columns in the SP region's output (when\n",
      "            # there are more, the weaker ones are suppressed)\n",
      "            'numActivePerInhArea': 40,\n",
      "\n",
      "            'seed': 1956,\n",
      "\n",
      "            # coincInputPoolPct\n",
      "            # What percent of the columns's receptive field is available\n",
      "            # for potential synapses. At initialization time, we will\n",
      "            # choose coincInputPoolPct * (2*coincInputRadius+1)^2\n",
      "            'coincInputPoolPct': 0.5,\n",
      "\n",
      "            # The default connected threshold. Any synapse whose\n",
      "            # permanence value is above the connected threshold is\n",
      "            # a \"connected synapse\", meaning it can contribute to the\n",
      "            # cell's firing. Typical value is 0.10. Cells whose activity\n",
      "            # level before inhibition falls below minDutyCycleBeforeInh\n",
      "            # will have their own internal synPermConnectedCell\n",
      "            # threshold set below this default value.\n",
      "            # (This concept applies to both SP and TP and so 'cells'\n",
      "            # is correct here as opposed to 'columns')\n",
      "            'synPermConnected': 0.1,\n",
      "\n",
      "            'synPermActiveInc': 0.1,\n",
      "\n",
      "            'synPermInactiveDec': 0.005,\n",
      "        },\n",
      "\n",
      "        # Controls whether TP is enabled or disabled;\n",
      "        # TP is necessary for making temporal predictions, such as predicting\n",
      "        # the next inputs.  Without TP, the model is only capable of\n",
      "        # reconstructing missing sensor inputs (via SP).\n",
      "        'tpEnable' : True,\n",
      "\n",
      "        'tpParams': {\n",
      "            # TP diagnostic output verbosity control;\n",
      "            # 0: silent; [1..6]: increasing levels of verbosity\n",
      "            # (see verbosity in nta/trunk/py/nupic/research/TP.py and TP10X*.py)\n",
      "            'verbosity': 0,\n",
      "\n",
      "            # Number of cell columns in the cortical region (same number for\n",
      "            # SP and TP)\n",
      "            # (see also tpNCellsPerCol)\n",
      "            'columnCount': 2048,\n",
      "\n",
      "            # The number of cells (i.e., states), allocated per column.\n",
      "            'cellsPerColumn': 32,\n",
      "\n",
      "            'inputWidth': 2048,\n",
      "\n",
      "            'seed': 1960,\n",
      "\n",
      "            # Temporal Pooler implementation selector (see _getTPClass in\n",
      "            # CLARegion.py).\n",
      "            'temporalImp': 'cpp',\n",
      "\n",
      "            # New Synapse formation count\n",
      "            # NOTE: If None, use spNumActivePerInhArea\n",
      "            #\n",
      "            # TODO: need better explanation\n",
      "            'newSynapseCount': 20,\n",
      "\n",
      "            # Maximum number of synapses per segment\n",
      "            #  > 0 for fixed-size CLA\n",
      "            # -1 for non-fixed-size CLA\n",
      "            #\n",
      "            # TODO: for Ron: once the appropriate value is placed in TP\n",
      "            # constructor, see if we should eliminate this parameter from\n",
      "            # description.py.\n",
      "            'maxSynapsesPerSegment': 32,\n",
      "\n",
      "            # Maximum number of segments per cell\n",
      "            #  > 0 for fixed-size CLA\n",
      "            # -1 for non-fixed-size CLA\n",
      "            #\n",
      "            # TODO: for Ron: once the appropriate value is placed in TP\n",
      "            # constructor, see if we should eliminate this parameter from\n",
      "            # description.py.\n",
      "            'maxSegmentsPerCell': 128,\n",
      "\n",
      "            # Initial Permanence\n",
      "            # TODO: need better explanation\n",
      "            'initialPerm': 0.21,\n",
      "\n",
      "            # Permanence Increment\n",
      "            'permanenceInc': 0.1,\n",
      "\n",
      "            # Permanence Decrement\n",
      "            # If set to None, will automatically default to tpPermanenceInc\n",
      "            # value.\n",
      "            'permanenceDec' : 0.1,\n",
      "\n",
      "            'globalDecay': 0.0,\n",
      "\n",
      "            'maxAge': 0,\n",
      "\n",
      "            # Minimum number of active synapses for a segment to be considered\n",
      "            # during search for the best-matching segments.\n",
      "            # None=use default\n",
      "            # Replaces: tpMinThreshold\n",
      "            'minThreshold': 9,\n",
      "\n",
      "            # Segment activation threshold.\n",
      "            # A segment is active if it has >= tpSegmentActivationThreshold\n",
      "            # connected synapses that are active due to infActiveState\n",
      "            # None=use default\n",
      "            # Replaces: tpActivationThreshold\n",
      "            'activationThreshold': 12,\n",
      "\n",
      "            'outputType': 'normal',\n",
      "\n",
      "            # \"Pay Attention Mode\" length. This tells the TP how many new\n",
      "            # elements to append to the end of a learned sequence at a time.\n",
      "            # Smaller values are better for datasets with short sequences,\n",
      "            # higher values are better for datasets with long sequences.\n",
      "            'pamLength': 1,\n",
      "        },\n",
      "\n",
      "        'clParams': {\n",
      "            'regionName' : 'CLAClassifierRegion',\n",
      "\n",
      "            # Classifier diagnostic output verbosity control;\n",
      "            # 0: silent; [1..6]: increasing levels of verbosity\n",
      "            'clVerbosity' : 0,\n",
      "\n",
      "            # This controls how fast the classifier learns/forgets. Higher values\n",
      "            # make it adapt faster and forget older patterns faster.\n",
      "            'alpha': 0.005,\n",
      "\n",
      "            # This is set after the call to updateConfigFromSubConfig and is\n",
      "            # computed from the aggregationInfo and predictAheadTime.\n",
      "            'steps': '1',\n",
      "\n",
      "            'implementation': 'cpp',\n",
      "        },\n",
      "\n",
      "        'anomalyParams': {\n",
      "            u'anomalyCacheRecords': None,\n",
      "            u'autoDetectThreshold': None,\n",
      "            u'autoDetectWaitRecords': 2184\n",
      "        },\n",
      "\n",
      "        'trainSPNetOnlyIfRequested': False,\n",
      "    },\n",
      "}"
     ],
     "language": "python",
     "metadata": {},
     "outputs": [
      {
       "output_type": "stream",
       "stream": "stdout",
       "text": [
        "\n"
       ]
      }
     ],
     "prompt_number": 60
    },
    {
     "cell_type": "code",
     "collapsed": false,
     "input": [
      "from nupic.frameworks.opf.modelfactory import ModelFactory\n",
      "model = ModelFactory.create(MODEL_PARAMS)\n",
      "model.enableInference({'predictedField': 'consumption'})"
     ],
     "language": "python",
     "metadata": {},
     "outputs": [],
     "prompt_number": 61
    },
    {
     "cell_type": "code",
     "collapsed": false,
     "input": [
      "data = getData()\n",
      "for _ in xrange(5):\n",
      "    record = dict(zip(data.getFieldNames(), data.next()))\n",
      "    print \"input: \", record[\"consumption\"]\n",
      "    result = model.run(record)\n",
      "    print \"prediction: \", result.inferences[\"multiStepBestPredictions\"][1]"
     ],
     "language": "python",
     "metadata": {},
     "outputs": [
      {
       "output_type": "stream",
       "stream": "stdout",
       "text": [
        "input:  5.3\n",
        "prediction:  5.3\n",
        "input:  5.5\n",
        "prediction:  5.5\n",
        "input:  5.1\n",
        "prediction:  5.36\n",
        "input:  5.3\n",
        "prediction:  5.1\n",
        "input:  5.2\n",
        "prediction:  5.342\n"
       ]
      }
     ],
     "prompt_number": 62
    },
    {
     "cell_type": "code",
     "collapsed": false,
     "input": [
      "print result"
     ],
     "language": "python",
     "metadata": {},
     "outputs": [
      {
       "output_type": "stream",
       "stream": "stdout",
       "text": [
        "ModelResult(\tpredictionNumber=4\n",
        "\trawInput={'timestamp': datetime.datetime(2010, 7, 2, 1, 0), 'gym': 'Balgowlah Platinum', 'consumption': 5.2, 'address': 'Shop 67 197-215 Condamine Street Balgowlah 2093'}\n",
        "\tsensorInput=SensorInput(\tdataRow=(5.2, 1.0)\n",
        "\tdataDict={'timestamp': datetime.datetime(2010, 7, 2, 1, 0), 'gym': 'Balgowlah Platinum', 'consumption': 5.2, 'address': 'Shop 67 197-215 Condamine Street Balgowlah 2093'}\n",
        "\tdataEncodings=[array([ 0.,  0.,  1.,  1.,  1.,  1.,  1.,  1.,  1.,  1.,  1.,  1.,  1.,\n",
        "        1.,  1.,  1.,  1.,  1.,  1.,  1.,  1.,  1.,  1.,  0.,  0.,  0.,\n",
        "        0.,  0.,  0.,  0.,  0.,  0.,  0.,  0.,  0.,  0.,  0.,  0.,  0.,\n",
        "        0.,  0.,  0.,  0.,  0.,  0.,  0.,  0.,  0.,  0.,  0.], dtype=float32), array([ 0.,  0.,  0., ...,  0.,  0.,  0.], dtype=float32)]\n",
        "\tsequenceReset=0.0\n",
        "\tcategory=0\n",
        ")\n",
        "\tinferences={'multiStepPredictions': {1: {5.1: 0.23209630772616169, 5.341999999999999: 0.76790369227383826}}, 'anomalyScore': 0.52500000000000002, 'multiStepBestPredictions': {1: 5.341999999999999}, 'anomalyLabel': '[]'}\n",
        "\tmetrics=None\n",
        "\tpredictedFieldIdx=0\n",
        "\tpredictedFieldName=consumption\n",
        ")\n"
       ]
      }
     ],
     "prompt_number": 63
    },
    {
     "cell_type": "code",
     "collapsed": false,
     "input": [
      "print \"anomaly score: \", result.inferences[\"anomalyScore\"]"
     ],
     "language": "python",
     "metadata": {},
     "outputs": [
      {
       "output_type": "stream",
       "stream": "stdout",
       "text": [
        "anomaly score:  0.525\n"
       ]
      }
     ],
     "prompt_number": 64
    },
    {
     "cell_type": "markdown",
     "metadata": {},
     "source": [
      "__See Subutai's talk for more info on anomaly detection!__\n",
      "\n",
      "# Built-in OPF Clients\n",
      "\n",
      "`python examples/opf/bin/OpfRunExperiment.py examples/opf/experiments/multistep/hotgym/`\n",
      "\n",
      "Outputs `examples/opf/experiments/multistep/hotgym/inference/DefaultTask.TemporalMultiStep.predictionLog.csv`\n",
      "\n",
      "`python bin/run_swarm.py examples/opf/experiments/multistep/hotgym/permutations.py`\n",
      "\n",
      "Outputs `examples/opf/experiments/multistep/hotgym/model_0/description.py`"
     ]
    },
    {
     "cell_type": "code",
     "collapsed": false,
     "input": [],
     "language": "python",
     "metadata": {},
     "outputs": []
    }
   ],
   "metadata": {}
  }
 ]
}
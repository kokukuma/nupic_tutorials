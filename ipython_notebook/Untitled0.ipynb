{
 "metadata": {
  "name": ""
 },
 "nbformat": 3,
 "nbformat_minor": 0,
 "worksheets": [
  {
   "cells": [
    {
     "cell_type": "code",
     "collapsed": false,
     "input": [
      "from nupic.encoders import ScalarEncoder\n",
      "ScalarEncoder"
     ],
     "language": "python",
     "metadata": {},
     "outputs": [
      {
       "metadata": {},
       "output_type": "pyout",
       "prompt_number": 9,
       "text": [
        "nupic.encoders.scalar.ScalarEncoder"
       ]
      }
     ],
     "prompt_number": 9
    },
    {
     "cell_type": "code",
     "collapsed": false,
     "input": [
      "# 22 bits with 3 active representing values 0 to 100\n",
      "# clipInput=True makes values >100 encode the same as 100 (instead of throwing a ValueError)\n",
      "# forced=True allows small values for `n` and `w`\n",
      "enc = ScalarEncoder(n=30, w=3, minval=2.5, maxval=97.5, clipInput=True, forced=True)\n",
      "print \"3 =\", enc.encode(3)\n",
      "print \"4 =\", enc.encode(4)\n",
      "print \"5 =\", enc.encode(5)\n",
      "print \"5 =\", enc.encode(7)"
     ],
     "language": "python",
     "metadata": {},
     "outputs": [
      {
       "output_type": "stream",
       "stream": "stdout",
       "text": [
        "3 = [1 1 1 0 0 0 0 0 0 0 0 0 0 0 0 0 0 0 0 0 0 0 0 0 0 0 0 0 0 0]\n",
        "4 = [1 1 1 0 0 0 0 0 0 0 0 0 0 0 0 0 0 0 0 0 0 0 0 0 0 0 0 0 0 0]\n",
        "5 = [0 1 1 1 0 0 0 0 0 0 0 0 0 0 0 0 0 0 0 0 0 0 0 0 0 0 0 0 0 0]\n",
        "5 = [0 1 1 1 0 0 0 0 0 0 0 0 0 0 0 0 0 0 0 0 0 0 0 0 0 0 0 0 0 0]\n"
       ]
      }
     ],
     "prompt_number": 20
    },
    {
     "cell_type": "code",
     "collapsed": false,
     "input": [
      "# Encode maxval\n",
      "print \"100  =\", enc.encode(100)\n",
      "# See that any larger number gets the same encoding\n",
      "print \"1000 =\", enc.encode(1000)"
     ],
     "language": "python",
     "metadata": {},
     "outputs": [
      {
       "output_type": "stream",
       "stream": "stdout",
       "text": [
        "100  = [0 0 0 0 0 0 0 0 0 0 0 0 0 0 0 0 0 0 0 0 0 0 0 0 0 0 0 1 1 1]\n",
        "1000 = [0 0 0 0 0 0 0 0 0 0 0 0 0 0 0 0 0 0 0 0 0 0 0 0 0 0 0 1 1 1]\n"
       ]
      }
     ],
     "prompt_number": 22
    },
    {
     "cell_type": "code",
     "collapsed": false,
     "input": [
      "from nupic.encoders.random_distributed_scalar import RandomDistributedScalarEncoder\n",
      "\n",
      "RandomDistributedScalarEncoder"
     ],
     "language": "python",
     "metadata": {},
     "outputs": [
      {
       "metadata": {},
       "output_type": "pyout",
       "prompt_number": 25,
       "text": [
        "nupic.encoders.random_distributed_scalar.RandomDistributedScalarEncoder"
       ]
      }
     ],
     "prompt_number": 25
    },
    {
     "cell_type": "code",
     "collapsed": false,
     "input": [
      "# 21 bits with 3 active with buckets of size 5\n",
      "rdse = RandomDistributedScalarEncoder(n=21, w=3, resolution=5, offset=2.5)\n",
      "\n",
      "print \"3 =   \", rdse.encode(3)\n",
      "print \"4 =   \", rdse.encode(4)\n",
      "print \"5 =   \", rdse.encode(5)\n",
      "print\n",
      "print \"100 = \", rdse.encode(100)\n",
      "print \"1000 =\", rdse.encode(1000)"
     ],
     "language": "python",
     "metadata": {},
     "outputs": []
    }
   ],
   "metadata": {}
  }
 ]
}